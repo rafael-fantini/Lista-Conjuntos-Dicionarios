{
 "cells": [
  {
   "cell_type": "markdown",
   "metadata": {
    "id": "KJqp9AANOCtf"
   },
   "source": [
    "<img src=\"https://raw.githubusercontent.com/andre-marcos-perez/ebac-course-utils/main/media/logo/newebac_logo_black_half.png\" alt=\"ebac-logo\">\n",
    "\n",
    "---\n",
    "\n",
    "# **Módulo 02** | Python: Estruturas de Dados\n",
    "Caderno de **Exercícios**<br> \n",
    "Professor [André Perez](https://www.linkedin.com/in/andremarcosperez/)\n",
    "\n",
    "---"
   ]
  },
  {
   "cell_type": "markdown",
   "metadata": {
    "id": "d9jDtUbDOE1-"
   },
   "source": [
    "# **Tópicos**\n",
    "\n",
    "<ol type=\"1\">\n",
    "  <li>Listas;</li>\n",
    "  <li>Conjuntos;</li>\n",
    "  <li>Dicionários.</li>\n",
    "</ol>"
   ]
  },
  {
   "cell_type": "markdown",
   "metadata": {
    "id": "SmoHgt-lwkpD"
   },
   "source": [
    "---"
   ]
  },
  {
   "cell_type": "markdown",
   "metadata": {
    "id": "GABI6OW8OfQ2"
   },
   "source": [
    "# **Exercícios**"
   ]
  },
  {
   "cell_type": "markdown",
   "metadata": {
    "id": "muD1vxozykSC"
   },
   "source": [
    "## 1\\. Listas"
   ]
  },
  {
   "cell_type": "markdown",
   "metadata": {
    "id": "ahrFfCuBxJKs"
   },
   "source": [
    "Criei uma lista chamada `filmes` com o nome dos 10 primeiros filmes mais bem avaliados no site no [IMDB](https://www.imdb.com/chart/top/). Imprima o resultado."
   ]
  },
  {
   "cell_type": "code",
   "execution_count": 10,
   "metadata": {
    "id": "OgL6Hv3bzOHI"
   },
   "outputs": [
    {
     "name": "stdout",
     "output_type": "stream",
     "text": [
      "['The Shawshank Redemption', ' The Godfather', 'The Godfather: Part II', 'The Dark Knight', '12 Angry Men', 'Schindlers list', 'The Lord of the Rings: The Return of the King', 'Pulp Fiction', 'The Good, the Bad and the Ugly', 'The Lord of the Rings: The Fellowship of the Ring']\n"
     ]
    }
   ],
   "source": [
    "melhores_filmes = [\"The Shawshank Redemption\", \" The Godfather\", \"The Godfather: Part II\", \"The Dark Knight\", \"12 Angry Men\",  \"Schindlers list\", \"The Lord of the Rings: The Return of the King\",  \"Pulp Fiction\", \"The Good, the Bad and the Ugly\", \"The Lord of the Rings: The Fellowship of the Ring\"]\n",
    "print(melhores_filmes)"
   ]
  },
  {
   "cell_type": "markdown",
   "metadata": {
    "id": "KI9zQRT2xa7m"
   },
   "source": [
    "Simule a movimentação do *ranking*. Utilize os métodos `insert` e `pop` para trocar a posição do primeiro e do segundo filme da lista. Imprima o resultado.\n",
    "\n"
   ]
  },
  {
   "cell_type": "code",
   "execution_count": 11,
   "metadata": {
    "id": "zX3mA3_GzrXH"
   },
   "outputs": [
    {
     "name": "stdout",
     "output_type": "stream",
     "text": [
      "['The GodFather', 'The Shawshank Redemption', 'The Godfather: Part II', 'The Dark Knight', '12 Angry Men', 'Schindlers list', 'The Lord of the Rings: The Return of the King', 'Pulp Fiction', 'The Good, the Bad and the Ugly', 'The Lord of the Rings: The Fellowship of the Ring']\n"
     ]
    }
   ],
   "source": [
    "melhores_filmes.pop(1)\n",
    "melhores_filmes.insert(0, \"The GodFather\")\n",
    "print(melhores_filmes)"
   ]
  },
  {
   "cell_type": "markdown",
   "metadata": {
    "id": "zMN1Q3jdwoJm"
   },
   "source": [
    "---"
   ]
  },
  {
   "cell_type": "markdown",
   "metadata": {
    "id": "lxa5L6uF0ZJE"
   },
   "source": [
    "## 2\\. Conjuntos"
   ]
  },
  {
   "cell_type": "markdown",
   "metadata": {
    "id": "9JahS2Kj0d5u"
   },
   "source": [
    "Aconteceu um erro no seu *ranking*. Simule a duplicação dos três últimos filmes da lista. Imprima o resultado."
   ]
  },
  {
   "cell_type": "code",
   "execution_count": 12,
   "metadata": {
    "scrolled": true
   },
   "outputs": [
    {
     "name": "stdout",
     "output_type": "stream",
     "text": [
      "['The GodFather', 'The Shawshank Redemption', 'The Godfather: Part II', 'The Dark Knight', '12 Angry Men', 'Schindlers list', 'The Lord of the Rings: The Return of the King', 'Pulp Fiction', 'The Good, the Bad and the Ugly', 'The Lord of the Rings: The Fellowship of the Ring', 'Pulp Fiction', 'The Good, the Bad and the Ugly', 'The Lord of the Rings: The Fellowship of the Ring']\n"
     ]
    }
   ],
   "source": [
    "melhores_filmes.append(\"Pulp Fiction\")\n",
    "melhores_filmes.append(\"The Good, the Bad and the Ugly\")\n",
    "melhores_filmes.append(\"The Lord of the Rings: The Fellowship of the Ring\")\n",
    "print(melhores_filmes)"
   ]
  },
  {
   "cell_type": "markdown",
   "metadata": {
    "id": "suxTfCJB6ZiX"
   },
   "source": [
    "Utiliza a conversão `set` e `list` para remover os valores duplicados. Imprima o resultado. "
   ]
  },
  {
   "cell_type": "code",
   "execution_count": 13,
   "metadata": {
    "id": "ZvUGN-0n6joM",
    "scrolled": true
   },
   "outputs": [
    {
     "name": "stdout",
     "output_type": "stream",
     "text": [
      "['The Dark Knight', 'Pulp Fiction', 'The Godfather: Part II', ' The Godfather', 'The Good, the Bad and the Ugly', 'The Shawshank Redemption', 'The Lord of the Rings: The Return of the King', 'Schindlers list', '12 Angry Men', 'The Lord of the Rings: The Fellowship of the Ring']\n",
      "10\n"
     ]
    }
   ],
   "source": [
    "melhores_filmes = {\"The Shawshank Redemption\", \" The Godfather\", \"The Godfather: Part II\", \"The Dark Knight\", \"12 Angry Men\",  \"Schindlers list\", \"The Lord of the Rings: The Return of the King\",  \"Pulp Fiction\", \"The Good, the Bad and the Ugly\", \"The Lord of the Rings: The Fellowship of the Ring\",  \"Pulp Fiction\", \"The Good, the Bad and the Ugly\", \"The Lord of the Rings: The Fellowship of the Ring\",  \"Pulp Fiction\", \"The Good, the Bad and the Ugly\", \"The Lord of the Rings: The Fellowship of the Ring\",  \"Pulp Fiction\", \"The Good, the Bad and the Ugly\", \"The Lord of the Rings: The Fellowship of the Ring\"}\n",
    "novo_ranking = list(set(melhores_filmes))\n",
    "print(novo_ranking)\n",
    "print(len(novo_ranking))"
   ]
  },
  {
   "cell_type": "markdown",
   "metadata": {
    "id": "ShkK35eQ6pAM"
   },
   "source": [
    "---"
   ]
  },
  {
   "cell_type": "markdown",
   "metadata": {
    "id": "EL_FzmxL6rTv"
   },
   "source": [
    "## 3\\. Dicionários"
   ]
  },
  {
   "cell_type": "markdown",
   "metadata": {
    "id": "i8l0gFqRCpfT"
   },
   "source": [
    "Repita os exercícios da parte 1 (listas). Os elementos da lista `filmes` devem ser dicionários no seguinte formato: `{'nome': <nome-do-filme>, 'ano': <ano do filme>}, 'sinopse': <sinopse do filme>}`. "
   ]
  },
  {
   "cell_type": "code",
   "execution_count": 15,
   "metadata": {},
   "outputs": [
    {
     "name": "stdout",
     "output_type": "stream",
     "text": [
      "[{'nome do filme': 'The Shawshank Redemption', 'ano do filme': '1994', 'sinopse do filme': 'two imprisoned men bond over a number of years, finding solace and eventual redemption through acts of common decency'}, {'nome do filme': 'The Godfather', 'ano do filme': '1972', 'sinopse do filme': 'An organized crime dynastys aging patriarch transfers control of his clandestine empire to his reluctant son.'}, {'nome do filme': 'the Godfather: Part II', 'ano do filme': '1974', 'sinopse do filme': 'The early life and career of Vito Corleone in 1920s New York City is portrayed, while his son, Michael, expands and tightens his grip on the family crime syndicate.'}, {'nome do filme': 'The Dark Knight', 'ano do filme': '2008', 'sinopse do filme': 'When the menace known as the Joker wreaks havoc and chaos on the people of Gotham, Batman must accept one of the greatest psychological and physical tests of his ability to fight injustice.'}, {'nome do filme': '12 Angry Men', 'ano do filme': '1957', 'sinopse do filme': 'A jury holdout attempts to prevent a miscarriage of justice by forcing his colleagues to reconsider the evidence'}, {'nome do filme': 'Schindlers List', 'ano do filme': '1993', 'sinopse do filme': 'an-occupied Poland during World War II, industrialist Oskar Schindler gradually becomes concerned for his Jewish workforce after witnessing their persecution by the Nazis.'}, {'nome do filme': 'The Lord of the Rings: The Return of the King ', 'ano do filme': '2003', 'sinopse do filme': 'Gandalf and Aragorn lead the World of Men against Saurons army to draw his gaze from Frodo and Sam as they approach Mount Doom with the One Ring.'}, {'nome do filme': 'Pulp Fiction', 'ano do filme': '1994', 'sinopse do filme': 'The lives of two mob hitmen, a boxer, a gangster and his wife, and a pair of diner bandits intertwine in four tales of violence and redemption.'}, {'nome do filme': 'The Good, the Bad and the Ugly', 'ano do filme': '1966', 'sinopse do filme': 'A bounty hunting scam joins two men in an uneasy alliance against a third in a race to find a fortune in gold buried in a remote cemetery'}, {'nome do filme': 'The Lord of the Rings: The Fellowship of the Ring', 'ano do filme': '2001', 'sinopse do filme': 'A meek Hobbit from the Shire and eight companions set out on a journey to destroy the powerful One Ring and save Middle-earth from the Dark Lord Sauron.'}]\n"
     ]
    }
   ],
   "source": [
    "filmes = [ ]\n",
    "\n",
    "filme = {'nome do filme': 'The Shawshank Redemption', 'ano do filme': '1994', 'sinopse do filme': 'two imprisoned men bond over a number of years, finding solace and eventual redemption through acts of common decency'}\n",
    "\n",
    "filmes.append(filme)\n",
    "\n",
    "filme = {'nome do filme': 'The Godfather', 'ano do filme': '1972', 'sinopse do filme': 'An organized crime dynastys aging patriarch transfers control of his clandestine empire to his reluctant son.'}\n",
    "\n",
    "filmes.append(filme)\n",
    "\n",
    "filme = {'nome do filme': 'the Godfather: Part II' , 'ano do filme' : '1974', 'sinopse do filme' : 'The early life and career of Vito Corleone in 1920s New York City is portrayed, while his son, Michael, expands and tightens his grip on the family crime syndicate.'}\n",
    "\n",
    "filmes.append(filme)\n",
    "\n",
    "filme = {'nome do filme': 'The Dark Knight', 'ano do filme': '2008', 'sinopse do filme': 'When the menace known as the Joker wreaks havoc and chaos on the people of Gotham, Batman must accept one of the greatest psychological and physical tests of his ability to fight injustice.'}\n",
    "\n",
    "filmes.append(filme)\n",
    "\n",
    "filme = {'nome do filme': '12 Angry Men', 'ano do filme' : '1957', 'sinopse do filme' : 'A jury holdout attempts to prevent a miscarriage of justice by forcing his colleagues to reconsider the evidence'}\n",
    "\n",
    "filmes.append(filme)\n",
    " \n",
    "filme = {'nome do filme':  'Schindlers List', 'ano do filme' : '1993', 'sinopse do filme': 'an-occupied Poland during World War II, industrialist Oskar Schindler gradually becomes concerned for his Jewish workforce after witnessing their persecution by the Nazis.'}\n",
    "\n",
    "filmes.append(filme)\n",
    "\n",
    "filme = {'nome do filme': 'The Lord of the Rings: The Return of the King ', 'ano do filme' : '2003',         'sinopse do filme' : 'Gandalf and Aragorn lead the World of Men against Saurons army to draw his gaze from Frodo and Sam as they approach Mount Doom with the One Ring.'}\n",
    "\n",
    "filmes.append(filme)\n",
    "\n",
    "filme = {'nome do filme':  'Pulp Fiction' , 'ano do filme' : '1994', 'sinopse do filme' : 'The lives of two mob hitmen, a boxer, a gangster and his wife, and a pair of diner bandits intertwine in four tales of violence and redemption.'}\n",
    "\n",
    "filmes.append(filme)\n",
    "\n",
    "filme = {'nome do filme': 'The Good, the Bad and the Ugly', 'ano do filme' : '1966','sinopse do filme' : 'A bounty hunting scam joins two men in an uneasy alliance against a third in a race to find a fortune in gold buried in a remote cemetery'}\n",
    "\n",
    "filmes.append(filme)\n",
    "\n",
    "filme = {'nome do filme': 'The Lord of the Rings: The Fellowship of the Ring', 'ano do filme' : '2001',            'sinopse do filme' : 'A meek Hobbit from the Shire and eight companions set out on a journey to destroy the powerful One Ring and save Middle-earth from the Dark Lord Sauron.'}\n",
    "\n",
    "filmes.append(filme)\n",
    "                 \n",
    "print(filmes)"
   ]
  },
  {
   "cell_type": "code",
   "execution_count": null,
   "metadata": {},
   "outputs": [],
   "source": []
  }
 ],
 "metadata": {
  "colab": {
   "collapsed_sections": [],
   "name": "module_2_exercise.ipynb",
   "provenance": [],
   "toc_visible": true
  },
  "kernelspec": {
   "display_name": "Python 3",
   "language": "python",
   "name": "python3"
  },
  "language_info": {
   "codemirror_mode": {
    "name": "ipython",
    "version": 3
   },
   "file_extension": ".py",
   "mimetype": "text/x-python",
   "name": "python",
   "nbconvert_exporter": "python",
   "pygments_lexer": "ipython3",
   "version": "3.7.3"
  }
 },
 "nbformat": 4,
 "nbformat_minor": 1
}
